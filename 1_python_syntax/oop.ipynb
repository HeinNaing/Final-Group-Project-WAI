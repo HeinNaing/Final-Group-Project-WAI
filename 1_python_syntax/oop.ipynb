{
 "cells": [
  {
   "cell_type": "markdown",
   "id": "93269bc6",
   "metadata": {},
   "source": [
    "### Before OOP"
   ]
  },
  {
   "cell_type": "code",
   "execution_count": 3,
   "id": "1365aa3e",
   "metadata": {},
   "outputs": [
    {
     "name": "stdout",
     "output_type": "stream",
     "text": [
      "A monster named Grog appears with 50 health.\n",
      "Grog took 10 damage!\n",
      "It has 40 health left.\n"
     ]
    }
   ],
   "source": [
    "monster1 = {\n",
    "  \"name\": \"Grog\",\n",
    "  \"health\": 50,\n",
    "}\n",
    "\n",
    "def take_damage(monster, amount):\n",
    "  monster[\"health\"] -= amount\n",
    "  print(f\"{monster['name']} took {amount} damage!\")\n",
    "  print(f\"It has {monster['health']} health left.\")\n",
    "\n",
    "print(f\"A monster named {monster1['name']} appears with {monster1['health']} health.\")\n",
    "take_damage(monster1, 10)"
   ]
  },
  {
   "cell_type": "markdown",
   "id": "b8a05d57",
   "metadata": {},
   "source": [
    "### Using class and object"
   ]
  },
  {
   "cell_type": "code",
   "execution_count": 10,
   "id": "1eec62ef",
   "metadata": {},
   "outputs": [],
   "source": [
    "class Monster:\n",
    "    def __init__(self, name, health):\n",
    "        self.name = name\n",
    "        self.health = health\n",
    "\n",
    "    def take_damage(self, amount):\n",
    "        self.health -= amount\n",
    "        print(f\"{self.name} took {amount} damage!\")\n",
    "        print(f\"It now has {self.health} health left.\")"
   ]
  },
  {
   "cell_type": "code",
   "execution_count": 12,
   "id": "61621a7a",
   "metadata": {},
   "outputs": [
    {
     "name": "stdout",
     "output_type": "stream",
     "text": [
      "Grog took 10 damage!\n",
      "It now has 40 health left.\n",
      "Blinky took 5 damage!\n",
      "It now has 25 health left.\n",
      "----------\n",
      "\n",
      "Grog's final health is 40\n",
      "Blinky's final health is 25\n"
     ]
    }
   ],
   "source": [
    "\n",
    "grog = Monster(\"Grog\", 50)\n",
    "blinky = Monster(\"Blinky\", 30)\n",
    "\n",
    "grog.take_damage(10)\n",
    "blinky.take_damage(5)\n",
    "print(\"----------\")\n",
    "print(f\"\\n{grog.name}'s final health is {grog.health}\")\n",
    "print(f\"{blinky.name}'s final health is {blinky.health}\")\n"
   ]
  },
  {
   "cell_type": "markdown",
   "id": "4188a9f8",
   "metadata": {},
   "source": [
    "### Inheritance"
   ]
  },
  {
   "cell_type": "code",
   "execution_count": 16,
   "id": "28cff299",
   "metadata": {},
   "outputs": [],
   "source": [
    "class Dragon(Monster):\n",
    "    def __init__(self, name, health):\n",
    "\n",
    "        super().__init__(name, health)\n",
    "\n",
    "    def breathe_fire(self):\n",
    "        print(f\"{self.name} breathes a huge fireball! FWOOSH!\")\n",
    "\n",
    "        return 20"
   ]
  },
  {
   "cell_type": "code",
   "execution_count": 20,
   "id": "967fef3a",
   "metadata": {},
   "outputs": [
    {
     "name": "stdout",
     "output_type": "stream",
     "text": [
      "Smaug took 25 damage!\n",
      "It now has 175 health left.\n",
      "Smaug breathes a huge fireball! FWOOSH!\n",
      "Grog took 20 damage!\n",
      "It now has -20 health left.\n",
      "Blinky took 20 damage!\n",
      "It now has -35 health left.\n",
      "----------\n",
      "The fire does 20 damage to everyone!\n",
      "Grog's final health is -20\n",
      "Blinky's final health is -35\n"
     ]
    }
   ],
   "source": [
    "smaug = Dragon(\"Smaug\", 200)\n",
    "smaug.take_damage(25)\n",
    "\n",
    "fire_damage = smaug.breathe_fire()\n",
    "\n",
    "\n",
    "grog.take_damage(fire_damage)\n",
    "blinky.take_damage(fire_damage)\n",
    "print(\"----------\")\n",
    "\n",
    "print(f\"The fire does {fire_damage} damage to everyone!\")\n",
    "print(f\"{grog.name}'s final health is {grog.health}\")\n",
    "print(f\"{blinky.name}'s final health is {blinky.health}\")\n"
   ]
  },
  {
   "cell_type": "code",
   "execution_count": 21,
   "id": "ff2f050b",
   "metadata": {},
   "outputs": [
    {
     "name": "stdout",
     "output_type": "stream",
     "text": [
      "-300\n"
     ]
    }
   ],
   "source": [
    "smaug.health = -300\n",
    "print(smaug.health)"
   ]
  },
  {
   "cell_type": "markdown",
   "id": "14cee9cb",
   "metadata": {},
   "source": [
    "### Encapsulation in Python"
   ]
  },
  {
   "cell_type": "code",
   "execution_count": 22,
   "id": "4bd83a40",
   "metadata": {},
   "outputs": [],
   "source": [
    "class BankAccount:\n",
    "    def __init__(self, owner, balance):\n",
    "        self.owner = owner\n",
    "        self._balance = balance\n",
    "\n",
    "    def deposit(self, amount):\n",
    "        if amount > 0:\n",
    "            self._balance += amount\n",
    "            \n",
    "    def withdraw(self, amount):\n",
    "        if 0 < amount <= self._balance:\n",
    "            self._balance -= amount\n",
    "        else:\n",
    "            print(\"Invalid withdrawal amount.\")"
   ]
  },
  {
   "cell_type": "code",
   "execution_count": 25,
   "id": "8d589daf",
   "metadata": {},
   "outputs": [
    {
     "name": "stdout",
     "output_type": "stream",
     "text": [
      "Alice's balance after directly changing it: -9999\n"
     ]
    }
   ],
   "source": [
    "my_account = BankAccount(\"Alice\", 500)\n",
    "my_account.deposit(100)\n",
    "my_account._balance = -9999\n",
    "print(f\"Alice's balance after directly changing it: {my_account._balance}\")"
   ]
  },
  {
   "cell_type": "code",
   "execution_count": 38,
   "id": "fca0c9dd",
   "metadata": {},
   "outputs": [
    {
     "name": "stdout",
     "output_type": "stream",
     "text": [
      "30\n"
     ]
    }
   ],
   "source": [
    "class Protected:\n",
    "    def __init__(self):\n",
    "        self._age = 30  # Protected attribute\n",
    "\n",
    "class Subclass(Protected):\n",
    "    def display_age(self):\n",
    "        print(self._age)  # Accessible in subclass\n",
    "\n",
    "obj = Subclass()\n",
    "obj.display_age()"
   ]
  },
  {
   "cell_type": "code",
   "execution_count": 39,
   "id": "9ea5e407",
   "metadata": {},
   "outputs": [
    {
     "name": "stdout",
     "output_type": "stream",
     "text": [
      "0\n"
     ]
    }
   ],
   "source": [
    "obj._age=0\n",
    "obj.display_age()"
   ]
  },
  {
   "cell_type": "code",
   "execution_count": null,
   "id": "bd45452e",
   "metadata": {},
   "outputs": [],
   "source": []
  },
  {
   "cell_type": "code",
   "execution_count": null,
   "id": "43625872",
   "metadata": {},
   "outputs": [],
   "source": []
  }
 ],
 "metadata": {
  "kernelspec": {
   "display_name": "ths_dev",
   "language": "python",
   "name": "python3"
  },
  "language_info": {
   "codemirror_mode": {
    "name": "ipython",
    "version": 3
   },
   "file_extension": ".py",
   "mimetype": "text/x-python",
   "name": "python",
   "nbconvert_exporter": "python",
   "pygments_lexer": "ipython3",
   "version": "3.10.16"
  }
 },
 "nbformat": 4,
 "nbformat_minor": 5
}
