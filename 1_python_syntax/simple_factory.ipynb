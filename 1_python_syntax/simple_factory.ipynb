{
 "cells": [
  {
   "cell_type": "markdown",
   "id": "aaaf827f",
   "metadata": {},
   "source": [
    "### Simple Factory Usage"
   ]
  },
  {
   "cell_type": "code",
   "execution_count": 7,
   "id": "84e74d00",
   "metadata": {},
   "outputs": [],
   "source": [
    "class sqlConnection:\n",
    "    def __init__(self):\n",
    "        self.name = 'sqlConnection'\n",
    " \n",
    "    def create(self):\n",
    "        print(self.name)\n",
    "\n",
    "class pgConnection:\n",
    "    def __init__(self):\n",
    "        self.name = 'pgConnection'\n",
    "\n",
    "\n",
    "    def create(self):\n",
    "        print(self.name)"
   ]
  },
  {
   "cell_type": "code",
   "execution_count": 26,
   "id": "31f8d1a6",
   "metadata": {},
   "outputs": [],
   "source": [
    "class SimpleFactory:\n",
    "    def __init__(self):  \n",
    "        pass\n",
    "\n",
    "    def getConnection(self, connectionType):     \n",
    "        if connectionType == 'sql':\n",
    "            return sqlConnection()\n",
    "        elif connectionType == 'postgress':\n",
    "            return pgConnection()"
   ]
  },
  {
   "cell_type": "code",
   "execution_count": 28,
   "id": "c40dfcf5",
   "metadata": {},
   "outputs": [
    {
     "name": "stdout",
     "output_type": "stream",
     "text": [
      "pgConnection\n",
      "sqlConnection\n"
     ]
    }
   ],
   "source": [
    "## simple factory\n",
    "sf = SimpleFactory().getConnection('postgress')\n",
    "sf.create()\n",
    "\n",
    "\n",
    "\n",
    "sf = SimpleFactory().getConnection('sql')\n",
    "sf.create()"
   ]
  },
  {
   "cell_type": "markdown",
   "id": "4097328b",
   "metadata": {},
   "source": [
    "### Factory Method"
   ]
  },
  {
   "cell_type": "code",
   "execution_count": 30,
   "id": "7a222323",
   "metadata": {},
   "outputs": [],
   "source": [
    "from abc import ABC, abstractmethod\n",
    "class Connection(ABC):\n",
    "    @abstractmethod\n",
    "    def create(self):\n",
    "        pass\n",
    "\n",
    "class SqlConnection(Connection):\n",
    "    def __init__(self):\n",
    "        self.name = 'SqlConnection' \n",
    " \n",
    "    def create(self):\n",
    "        print(f\"Creating {self.name} instance.\")\n",
    "\n",
    "\n",
    "class PgConnection(Connection):\n",
    "    def __init__(self):\n",
    "        self.name = 'PgConnection' \n",
    " \n",
    "    def create(self):\n",
    "        print(f\"Creating {self.name} instance.\")"
   ]
  },
  {
   "cell_type": "code",
   "execution_count": 50,
   "id": "5bac0351",
   "metadata": {},
   "outputs": [],
   "source": [
    "class sqlFactory(Connection):\n",
    "    def __init__(self):\n",
    "        super().__init__()\n",
    "\n",
    "    def create(self):\n",
    "        return SqlConnection()\n",
    "    \n",
    "\n",
    "class pgFactory(Connection):\n",
    "    def create(self):\n",
    "        return PgConnection()"
   ]
  },
  {
   "cell_type": "code",
   "execution_count": null,
   "id": "e413d324",
   "metadata": {},
   "outputs": [],
   "source": [
    "def getProperConnection(factory : Connection):\n",
    "    # you can add additional checks here\n",
    "    return factory.create()"
   ]
  },
  {
   "cell_type": "code",
   "execution_count": null,
   "id": "dc0e9110",
   "metadata": {},
   "outputs": [
    {
     "name": "stdout",
     "output_type": "stream",
     "text": [
      "Creating SqlConnection instance.\n"
     ]
    }
   ],
   "source": [
    "connection =  getProperConnection(sqlFactory()) \n",
    "connection.create()"
   ]
  },
  {
   "cell_type": "code",
   "execution_count": 53,
   "id": "20d0d857",
   "metadata": {},
   "outputs": [
    {
     "name": "stdout",
     "output_type": "stream",
     "text": [
      "Creating PgConnection instance.\n"
     ]
    }
   ],
   "source": [
    "connection = getProperConnection(pgFactory())\n",
    "connection.create()"
   ]
  },
  {
   "cell_type": "code",
   "execution_count": null,
   "id": "f78530fb",
   "metadata": {},
   "outputs": [],
   "source": []
  },
  {
   "cell_type": "code",
   "execution_count": null,
   "id": "7a0fa423",
   "metadata": {},
   "outputs": [],
   "source": []
  }
 ],
 "metadata": {
  "kernelspec": {
   "display_name": "ths_dev",
   "language": "python",
   "name": "python3"
  },
  "language_info": {
   "codemirror_mode": {
    "name": "ipython",
    "version": 3
   },
   "file_extension": ".py",
   "mimetype": "text/x-python",
   "name": "python",
   "nbconvert_exporter": "python",
   "pygments_lexer": "ipython3",
   "version": "3.10.16"
  }
 },
 "nbformat": 4,
 "nbformat_minor": 5
}
