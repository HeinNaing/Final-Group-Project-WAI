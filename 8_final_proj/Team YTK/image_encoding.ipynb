{
 "cells": [
  {
   "cell_type": "code",
   "execution_count": 24,
   "id": "57c086d1",
   "metadata": {},
   "outputs": [],
   "source": [
    "from pathlib import Path\n",
    "from PIL import Image\n",
    "import numpy as np\n",
    "import cv2"
   ]
  },
  {
   "cell_type": "code",
   "execution_count": 25,
   "metadata": {},
   "outputs": [
    {
     "name": "stdout",
     "output_type": "stream",
     "text": [
      "Using Team dir  : /Users/khantnyarkoko/Practical-ML-by-WAI/8_final_proj/Team YTK\n",
      "Using image dir : /Users/khantnyarkoko/Practical-ML-by-WAI/8_final_proj/Team YTK/VOC/JPEGImages  (exists? True )\n",
      "Using mask dir  : /Users/khantnyarkoko/Practical-ML-by-WAI/8_final_proj/Team YTK/VOC/SegmentationClass  (exists? True )\n",
      "PNG masks       : 358\n",
      "Images (jpg/png): 358\n"
     ]
    }
   ],
   "source": [
    "root = Path.cwd()\n",
    "for _ in range(6):\n",
    "    if (root / '8_final_proj').exists():\n",
    "        break\n",
    "    if root.parent == root:\n",
    "        break\n",
    "    root = root.parent\n",
    "\n",
    "team_candidates = [\n",
    "    Path.cwd(),                              \n",
    "    root / '8_final_proj' / 'Team YTK',      \n",
    "]\n",
    "TEAM = next((p for p in team_candidates if p.is_dir() and p.name == 'Team YTK'), None)\n",
    "if TEAM is None:\n",
    "    hits = [p for p in root.rglob('Team YTK') if p.is_dir()]\n",
    "    TEAM = hits[0] if hits else None\n",
    "if TEAM is None:\n",
    "    raise FileNotFoundError(f\"Can't find 'Team YTK' under {root}\")\n",
    "\n",
    "candidate_masks = [TEAM / 'VOC' / 'SegmentationClass', TEAM / 'SegmentationClass']\n",
    "MASK_DIR = next((p for p in candidate_masks if p.is_dir()), None)\n",
    "if MASK_DIR is None:\n",
    "    raise FileNotFoundError(\n",
    "        \"No 'SegmentationClass' directory found. \"\n",
    "        f\"Checked: {candidate_masks[0]} , {candidate_masks[1]} . \"\n",
    "    )\n",
    "\n",
    "IMG_DIR = TEAM / 'VOC' / 'JPEGImages'\n",
    "\n",
    "mask_path = str(MASK_DIR)\n",
    "img_path = str(IMG_DIR)\n",
    "\n",
    "print('Using Team dir  :', TEAM)\n",
    "print('Using image dir :', IMG_DIR, ' (exists?', IMG_DIR.exists(), ')')\n",
    "print('Using mask dir  :', MASK_DIR, ' (exists?', MASK_DIR.exists(), ')')\n",
    "print('PNG masks       :', len(list(MASK_DIR.glob('*.png'))))\n",
    "print('Images (jpg/png):', len(list(IMG_DIR.glob('*.jpg'))) + len(list(IMG_DIR.glob('*.png'))))"
   ]
  },
  {
   "cell_type": "code",
   "execution_count": 26,
   "id": "582206f6",
   "metadata": {},
   "outputs": [
    {
     "name": "stdout",
     "output_type": "stream",
     "text": [
      "Sample mask: cat.6.png mode: P\n"
     ]
    }
   ],
   "source": [
    "try:\n",
    "    sm = next(MASK_DIR.glob('*.png'))\n",
    "    mode = Image.open(sm).mode\n",
    "    print('Sample mask:', sm.name, 'mode:', mode)\n",
    "except StopIteration:\n",
    "    print('Warning: no masks found to probe.')\n",
    "    mode = None"
   ]
  },
  {
   "cell_type": "code",
   "execution_count": 27,
   "id": "c56f9e0a",
   "metadata": {},
   "outputs": [
    {
     "name": "stdout",
     "output_type": "stream",
     "text": [
      "Setup complete.\n"
     ]
    }
   ],
   "source": [
    "def load_mask_as_ids(path: Path) -> np.ndarray:\n",
    "    im = Image.open(path)\n",
    "    if im.mode == 'P':\n",
    "        return np.array(im, dtype=np.int32)\n",
    "    arr = cv2.imread(str(path), cv2.IMREAD_UNCHANGED)\n",
    "    if arr is None:\n",
    "        arr = np.array(im.convert('RGB'))\n",
    "    if arr.ndim == 2:\n",
    "        arr = np.stack([arr]*3, axis=-1)\n",
    "    elif arr.shape[-1] == 4:\n",
    "        arr = cv2.cvtColor(arr, cv2.COLOR_BGRA2BGR)\n",
    "    code = (arr[...,0].astype(np.uint32)\n",
    "           + (arr[...,1].astype(np.uint32) << 8)\n",
    "           + (arr[...,2].astype(np.uint32) << 16))\n",
    "    uniques = np.unique(code)\n",
    "    order = sorted(uniques, key=lambda x: (x != 0, x))  # (0,0,0) -> 0\n",
    "    lut = {c:i for i,c in enumerate(order)}\n",
    "    out = np.empty(code.shape, dtype=np.int32)\n",
    "    out[:] = -1\n",
    "    for c,i in lut.items():\n",
    "        out[code == c] = i\n",
    "    if (out < 0).any():\n",
    "        raise RuntimeError('Some pixels did not map to any label.')\n",
    "    return out\n",
    "\n",
    "def build_pairs():\n",
    "    imgs = {p.stem for p in IMG_DIR.glob('*.jpg')} | {p.stem for p in IMG_DIR.glob('*.png')}\n",
    "    msks = {p.stem for p in MASK_DIR.glob('*.png')}\n",
    "    paired = sorted(imgs & msks)\n",
    "    print(f'images: {len(imgs)}  masks: {len(msks)}  paired: {len(paired)}')\n",
    "    if len(paired) < min(len(imgs), len(msks)):\n",
    "        extra_img = sorted(list(imgs - msks))[:5]\n",
    "        extra_msk = sorted(list(msks - imgs))[:5]\n",
    "        if extra_img: print('example images without mask:', extra_img)\n",
    "        if extra_msk: print('example masks without image:', extra_msk)\n",
    "    return paired\n",
    "\n",
    "print('Setup complete.')"
   ]
  },
  {
   "cell_type": "code",
   "execution_count": 28,
   "id": "29b880f6",
   "metadata": {},
   "outputs": [],
   "source": [
    "import os\n",
    "import numpy as np\n",
    "from PIL import Image\n",
    "from tqdm import tqdm "
   ]
  },
  {
   "cell_type": "code",
   "execution_count": 29,
   "id": "291736b3",
   "metadata": {},
   "outputs": [],
   "source": [
    "def create_color_to_label_map(mask_folder_path):\n",
    "    \"\"\"\n",
    "    Scans all masks in a folder to find unique colors and create a mapping\n",
    "    from color to a class label.\n",
    "    \"\"\"\n",
    "    print(f\"Scanning masks in '{mask_folder_path}'...\")\n",
    "    \n",
    "    unique_colors = set()\n",
    "    \n",
    "\n",
    "    mask_files = os.listdir(mask_folder_path)\n",
    "    print(mask_files)\n",
    "   \n",
    "    for filename in tqdm(mask_files, desc=\"Finding unique colors\"):\n",
    "        mask_path = os.path.join(mask_folder_path, filename)\n",
    "\n",
    "        mask_bgr = cv2.imread(mask_path)\n",
    "\n",
    "        mask_rgb = cv2.cvtColor(mask_bgr, cv2.COLOR_BGR2RGB)\n",
    "        # Reshape the (H, W, C) array to (H*W, C) to get a list of pixels\n",
    "        pixels = mask_rgb.reshape(-1, 3)\n",
    "        \n",
    "        # Get unique rows (unique RGB colors)\n",
    "        unique_pixel_colors = np.unique(pixels, axis=0)\n",
    "        \n",
    "        # Add the unique colors found in this image to our overall set\n",
    "        for color in unique_pixel_colors:\n",
    "            unique_colors.add(tuple(color))\n",
    "            \n",
    "\n",
    "    sorted_colors = sorted(list(unique_colors))\n",
    "    \n",
    "    # Create the color-to-label dictionary\n",
    "    color_to_label = {color: label for label, color in enumerate(sorted_colors)}\n",
    "    \n",
    "    print(\"\\nScan complete!\")\n",
    "    print(f\"Found {len(color_to_label)} unique classes.\")\n",
    "\n",
    "    return color_to_label"
   ]
  },
  {
   "cell_type": "code",
   "execution_count": 30,
   "id": "d4c09e55",
   "metadata": {},
   "outputs": [
    {
     "name": "stdout",
     "output_type": "stream",
     "text": [
      "Scanning masks in '/Users/khantnyarkoko/Practical-ML-by-WAI/8_final_proj/Team YTK/VOC/SegmentationClass'...\n",
      "['cat.6.png', 'dog.946.png', 'dog.952.png', 'cat.946.png', 'cat.952.png', 'cat.24.png', 'cat.30.png', 'cat.18.png', 'dog.22.png', 'dog.36.png', 'cat.2136.png', 'cat.2320.png', 'cat.2334.png', 'cat.2335.png', 'cat.2321.png', 'dog.37.png', 'dog.23.png', 'cat.19.png', 'cat.31.png', 'cat.25.png', 'cat.953.png', 'cat.7.png', 'cat.2296.png', 'cat.5.png', 'cat.945.png', 'cat.979.png', 'cat.33.png', 'cat.27.png', 'dog.35.png', 'dog.21.png', 'cat.2323.png', 'cat.2322.png', 'dog.20.png', 'dog.34.png', 'cat.26.png', 'cat.32.png', 'cat.944.png', 'cat.950.png', 'dog.944.png', 'cat.2097.png', 'dog.950.png', 'cat.987.png', 'cat.4.png', 'dog.954.png', 'cat.0.png', 'dog.968.png', 'cat.983.png', 'cat.968.png', 'cat.954.png', 'cat.36.png', 'cat.22.png', 'dog.30.png', 'dog.24.png', 'dog.18.png', 'cat.2332.png', 'cat.2327.png', 'cat.2333.png', 'dog.19.png', 'dog.2329.png', 'dog.25.png', 'dog.31.png', 'cat.23.png', 'cat.37.png', 'dog.2249.png', 'cat.955.png', 'dog.2275.png', 'cat.969.png', 'cat.982.png', 'cat.1.png', 'dog.969.png', 'dog.941.png', 'dog.955.png', 'dog.957.png', 'cat.3.png', 'cat.957.png', 'cat.21.png', 'cat.35.png', 'dog.27.png', 'dog.33.png', 'cat.2325.png', 'cat.2331.png', 'cat.2319.png', 'cat.2330.png', 'cat.2324.png', 'dog.32.png', 'dog.26.png', 'cat.34.png', 'cat.20.png', 'cat.956.png', 'cat.942.png', 'cat.2.png', 'cat.981.png', 'dog.956.png', 'cat.2237.png', 'dog.931.png', 'cat.925.png', 'cat.931.png', 'cat.919.png', 'dog.2205.png', 'cat.47.png', 'cat.53.png', 'dog.1.png', 'dog.41.png', 'dog.55.png', 'dog.2198.png', 'cat.2357.png', 'cat.2356.png', 'dog.2199.png', 'cat.2154.png', 'dog.54.png', 'dog.40.png', 'dog.0.png', 'cat.2197.png', 'cat.52.png', 'cat.46.png', 'dog.2204.png', 'dog.2210.png', 'cat.930.png', 'cat.924.png', 'dog.930.png', 'dog.924.png', 'dog.918.png', 'dog.932.png', 'dog.926.png', 'cat.932.png', 'cat.926.png', 'cat.50.png', 'cat.44.png', 'cat.2195.png', 'cat.2181.png', 'dog.56.png', 'cat.2142.png', 'dog.2.png', 'dog.42.png', 'cat.2354.png', 'dog.43.png', 'dog.3.png', 'dog.57.png', 'cat.45.png', 'cat.51.png', 'dog.2207.png', 'cat.927.png', 'cat.933.png', 'dog.933.png', 'cat.2235.png', 'cat.2209.png', 'cat.2231.png', 'dog.937.png', 'dog.923.png', 'dog.2203.png', 'cat.2190.png', 'cat.55.png', 'cat.41.png', 'cat.2153.png', 'dog.53.png', 'dog.47.png', 'dog.7.png', 'cat.2351.png', 'cat.2350.png', 'dog.6.png', 'dog.46.png', 'dog.52.png', 'cat.40.png', 'cat.54.png', 'cat.2191.png', 'dog.2216.png', 'dog.2202.png', 'dog.922.png', 'dog.936.png', 'cat.2230.png', 'dog.920.png', 'dog.934.png', 'dog.908.png', 'dog.2214.png', 'dog.2200.png', 'cat.920.png', 'cat.934.png', 'cat.42.png', 'cat.56.png', 'dog.44.png', 'dog.4.png', 'dog.50.png', 'cat.2352.png', 'cat.2353.png', 'dog.2177.png', 'dog.2349.png', 'cat.2179.png', 'dog.51.png', 'dog.5.png', 'dog.45.png', 'cat.57.png', 'cat.43.png', 'cat.2192.png', 'cat.2186.png', 'cat.935.png', 'cat.921.png', 'dog.2229.png', 'cat.909.png', 'dog.909.png', 'dog.935.png', 'dog.921.png', 'cat.2233.png', 'dog.938.png', 'dog.904.png', 'cat.904.png', 'cat.910.png', 'dog.2230.png', 'cat.938.png', 'dog.8.png', 'dog.48.png', 'dog.2185.png', 'dog.2191.png', 'cat.2362.png', 'dog.2190.png', 'dog.2184.png', 'dog.2345.png', 'dog.61.png', 'cat.2161.png', 'dog.49.png', 'dog.9.png', 'dog.2225.png', 'dog.2231.png', 'cat.939.png', 'cat.911.png', 'cat.905.png', 'dog.911.png', 'dog.939.png', 'cat.2203.png', 'cat.2229.png', 'dog.913.png', 'cat.913.png', 'dog.2233.png', 'cat.59.png', 'dog.2186.png', 'dog.2179.png', 'cat.2360.png', 'dog.2178.png', 'dog.2187.png', 'dog.2193.png', 'dog.62.png', 'dog.2352.png', 'cat.58.png', 'dog.2226.png', 'cat.906.png', 'cat.912.png', 'dog.906.png', 'dog.912.png', 'cat.2238.png', 'dog.916.png', 'dog.902.png', 'dog.2222.png', 'cat.902.png', 'cat.48.png', 'cat.60.png', 'dog.2197.png', 'dog.2183.png', 'cat.2364.png', 'cat.2358.png', 'cat.2365.png', 'dog.2182.png', 'dog.2196.png', 'cat.2167.png', 'cat.2173.png', 'cat.49.png', 'cat.917.png', 'dog.903.png', 'dog.917.png', 'cat.2239.png', 'dog.901.png', 'cat.929.png', 'cat.901.png', 'cat.915.png', 'dog.2180.png', 'dog.2181.png', 'dog.58.png', 'cat.914.png', 'dog.2208.png', 'dog.2220.png', 'cat.928.png', 'dog.928.png', 'dog.914.png', 'dog.967.png', 'dog.2290.png', 'dog.2284.png', 'cat.967.png', 'cat.11.png', 'cat.39.png', 'dog.2496.png', 'dog.17.png', 'cat.2329.png', 'cat.2300.png', 'dog.2332.png', 'dog.16.png', 'dog.2326.png', 'cat.38.png', 'cat.10.png', 'dog.2246.png', 'cat.966.png', 'dog.2285.png', 'dog.972.png', 'dog.966.png', 'dog.958.png', 'dog.970.png', 'dog.2287.png', 'dog.964.png', 'dog.2293.png', 'dog.2278.png', 'cat.958.png', 'cat.12.png', 'dog.28.png', 'dog.14.png', 'cat.2100.png', 'dog.15.png', 'dog.29.png', 'cat.13.png', 'cat.959.png', 'cat.965.png', 'cat.971.png', 'dog.965.png', 'dog.2286.png', 'dog.971.png', 'dog.959.png', 'dog.2282.png', 'cat.9.png', 'dog.961.png', 'dog.949.png', 'dog.2241.png', 'cat.949.png', 'dog.2255.png', 'cat.17.png', 'dog.11.png', 'dog.39.png', 'cat.2306.png', 'dog.38.png', 'dog.10.png', 'cat.16.png', 'cat.948.png', 'dog.948.png', 'cat.8.png', 'dog.960.png', 'dog.974.png', 'dog.2283.png', 'dog.2295.png', 'dog.962.png', 'cat.962.png', 'cat.28.png', 'cat.14.png', 'dog.12.png', 'cat.2305.png', 'dog.13.png', 'dog.2323.png', 'cat.15.png', 'cat.29.png', 'cat.977.png', 'cat.963.png', 'cat.2098.png', 'cat.988.png', 'dog.2294.png']\n"
     ]
    },
    {
     "name": "stderr",
     "output_type": "stream",
     "text": [
      "Finding unique colors: 100%|██████████| 358/358 [00:34<00:00, 10.42it/s]"
     ]
    },
    {
     "name": "stdout",
     "output_type": "stream",
     "text": [
      "\n",
      "Scan complete!\n",
      "Found 3 unique classes.\n"
     ]
    },
    {
     "name": "stderr",
     "output_type": "stream",
     "text": [
      "\n"
     ]
    },
    {
     "data": {
      "text/plain": [
       "{(np.uint8(0), np.uint8(0), np.uint8(0)): 0,\n",
       " (np.uint8(0), np.uint8(128), np.uint8(0)): 1,\n",
       " (np.uint8(128), np.uint8(0), np.uint8(0)): 2}"
      ]
     },
     "execution_count": 30,
     "metadata": {},
     "output_type": "execute_result"
    }
   ],
   "source": [
    "mask_path = str(MASK_DIR)\n",
    "COLOR_TO_LABEL = create_color_to_label_map(mask_path)\n",
    "COLOR_TO_LABEL"
   ]
  },
  {
   "cell_type": "code",
   "execution_count": 31,
   "id": "aaf98ce0",
   "metadata": {},
   "outputs": [],
   "source": [
    "def encode_mask_to_grayscale(mask_path, color_map):\n",
    "    \"\"\"\n",
    "    Converts an RGB segmentation mask to a grayscale mask with class labels.\n",
    "    \"\"\"\n",
    "    mask_bgr = cv2.imread(mask_path)\n",
    "    mask_rgb = cv2.cvtColor(mask_bgr, cv2.COLOR_BGR2RGB)\n",
    "    height, width, _ = mask_rgb.shape\n",
    "    \n",
    "    mask_grayscale = np.zeros((height, width), dtype=np.uint8)\n",
    "\n",
    "    for color, label in color_map.items():\n",
    "        matches = np.where(np.all(mask_rgb == color, axis=-1))\n",
    "        mask_grayscale[matches] = label\n",
    "        \n",
    "    return mask_grayscale\n",
    "    "
   ]
  },
  {
   "cell_type": "code",
   "execution_count": 32,
   "id": "852d6979",
   "metadata": {},
   "outputs": [],
   "source": [
    "sample_mask_file = str(next(MASK_DIR.glob('*.png')))\n",
    "grayscale_label_mask = encode_mask_to_grayscale(sample_mask_file, COLOR_TO_LABEL)"
   ]
  },
  {
   "cell_type": "code",
   "execution_count": 35,
   "id": "a1136cb6",
   "metadata": {},
   "outputs": [
    {
     "data": {
      "text/plain": [
       "<matplotlib.image.AxesImage at 0x14e6f61a0>"
      ]
     },
     "execution_count": 35,
     "metadata": {},
     "output_type": "execute_result"
    },
    {
     "data": {
      "image/png": "[encoded data removed]",
      "text/plain": [
       "<Figure size 640x480 with 1 Axes>"
      ]
     },
     "metadata": {},
     "output_type": "display_data"
    }
   ],
   "source": [
    "import matplotlib.pyplot as plt\n",
    "save_path = \"test_dataset/cats_and_dogs_filtered/train/cats/cat.6.jpg\"\n",
    "\n",
    "cv2.imwrite(save_path, grayscale_label_mask)\n",
    "plt.imshow(grayscale_label_mask)"
   ]
  },
  {
   "cell_type": "code",
   "execution_count": 36,
   "id": "f4c7b4ea",
   "metadata": {},
   "outputs": [
    {
     "data": {
      "text/plain": [
       "<matplotlib.image.AxesImage at 0x14e33d030>"
      ]
     },
     "execution_count": 36,
     "metadata": {},
     "output_type": "execute_result"
    },
    {
     "data": {
      "image/png": "[encoded data removed]",
      "text/plain": [
       "<Figure size 640x480 with 1 Axes>"
      ]
     },
     "metadata": {},
     "output_type": "display_data"
    }
   ],
   "source": [
    "new_grayscale_label_mask = cv2.imread(save_path)\n",
    "new_grayscale_label_mask = cv2.cvtColor(new_grayscale_label_mask, cv2.COLOR_BGR2GRAY)\n",
    "plt.imshow(new_grayscale_label_mask)"
   ]
  }
 ],
 "metadata": {
  "kernelspec": {
   "display_name": "assignment_2_env",
   "language": "python",
   "name": "python3"
  },
  "language_info": {
   "codemirror_mode": {
    "name": "ipython",
    "version": 3
   },
   "file_extension": ".py",
   "mimetype": "text/x-python",
   "name": "python",
   "nbconvert_exporter": "python",
   "pygments_lexer": "ipython3",
   "version": "3.10.13"
  }
 },
 "nbformat": 4,
 "nbformat_minor": 5
}
