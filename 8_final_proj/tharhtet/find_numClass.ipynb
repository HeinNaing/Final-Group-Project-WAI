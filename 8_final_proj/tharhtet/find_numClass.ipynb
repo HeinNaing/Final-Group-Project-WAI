{
 "cells": [
  {
   "cell_type": "code",
   "execution_count": 8,
   "id": "21a12787",
   "metadata": {},
   "outputs": [],
   "source": [
    "import os\n",
    "import numpy as np\n",
    "from PIL import Image\n",
    "from tqdm import tqdm"
   ]
  },
  {
   "cell_type": "code",
   "execution_count": 16,
   "id": "f7021f41",
   "metadata": {},
   "outputs": [
    {
     "name": "stdout",
     "output_type": "stream",
     "text": [
      "Inspecting 211 label images in 'dataset/car-segmentation/masks'...\n"
     ]
    }
   ],
   "source": [
    "LABEL_DIR = 'dataset/cityscapes/train/label'\n",
    "LABEL_DIR = 'dataset/car-segmentation/masks'\n",
    "\n",
    "\n",
    "unique_pixel_values = set()\n",
    "label_files = os.listdir(LABEL_DIR)\n",
    "\n",
    "print(f\"Inspecting {len(label_files)} label images in '{LABEL_DIR}'...\")"
   ]
  },
  {
   "cell_type": "code",
   "execution_count": 17,
   "id": "b4f7bba8",
   "metadata": {},
   "outputs": [
    {
     "name": "stderr",
     "output_type": "stream",
     "text": [
      "  1%|          | 2/211 [00:00<00:11, 17.67it/s]"
     ]
    },
    {
     "name": "stdout",
     "output_type": "stream",
     "text": [
      "dataset/car-segmentation/masks/IMG_20201123_143129__01.png : [0 1 2 3 4]\n",
      "dataset/car-segmentation/masks/IMG_20201123_132724.png : [0 1 2 3 4]\n",
      "dataset/car-segmentation/masks/driver-clipart-horsepower-sports-car-side-view-png-transparent-side-car-png-880_295.png : [0 1 2 3 4]\n",
      "dataset/car-segmentation/masks/IMG_20201123_142958__01.png : [0 1 2 3 4]\n",
      "dataset/car-segmentation/masks/IMG_20201123_143532.png : [0 1 2 3 4]\n",
      "dataset/car-segmentation/masks/side-view-(left)-90.png : [0 1 2 3 4]\n",
      "dataset/car-segmentation/masks/IMG_20201123_135102.png : [0 1 2 3 4]\n"
     ]
    },
    {
     "name": "stderr",
     "output_type": "stream",
     "text": [
      "  8%|▊         | 17/211 [00:00<00:05, 37.00it/s]"
     ]
    },
    {
     "name": "stdout",
     "output_type": "stream",
     "text": [
      "dataset/car-segmentation/masks/yuvraj-singh-keRubFoQix8-unsplash.png : [0 1 2 3 4]\n",
      "dataset/car-segmentation/masks/003.png : [0 1 2 3 4]\n",
      "dataset/car-segmentation/masks/image%20(15).png : [0 1 2 3 4]\n",
      "dataset/car-segmentation/masks/IMG_20201123_141046.png : [0 1 2 3 4]\n",
      "dataset/car-segmentation/masks/IMG_20201123_144114.png : [0 1 2 3 4]\n",
      "dataset/car-segmentation/masks/IMG_20201123_134949.png : [0 1 2 3 4]\n",
      "dataset/car-segmentation/masks/IMG_20201123_143055.png : [0 1 2 3 4]\n",
      "dataset/car-segmentation/masks/Maruti-Suzuki-Ertiga-Right-Side-111110.png : [0 1 2 3 4]\n",
      "dataset/car-segmentation/masks/2009-Ford-Kuga-Show-Car-Side-1280x960.png : [0 1 2 3 4]\n",
      "dataset/car-segmentation/masks/IMG_20201123_132218__01.png : [0 1 2 3 4]\n",
      "dataset/car-segmentation/masks/a594e4d7b37f6e9357ca3b92a4125262.png : [0 1 2 3 4]\n",
      "dataset/car-segmentation/masks/IMG_20201123_143336.png : [0 1 2 3 4]\n",
      "dataset/car-segmentation/masks/IMG_20201123_143849.png : [0 1 2 3 4]\n",
      "dataset/car-segmentation/masks/IMG_20201123_135713.png : [0 1 2 3 4]\n",
      "dataset/car-segmentation/masks/IMG_20201123_135908.png : [0 1 2 3 4]\n",
      "dataset/car-segmentation/masks/IMG_20201123_132905.png : [0 1 2 3 4]\n",
      "dataset/car-segmentation/masks/IMG_20201123_135703.png : [0 1 2 3 4]\n"
     ]
    },
    {
     "name": "stderr",
     "output_type": "stream",
     "text": [
      " 12%|█▏        | 25/211 [00:00<00:03, 48.64it/s]"
     ]
    },
    {
     "name": "stdout",
     "output_type": "stream",
     "text": [
      "dataset/car-segmentation/masks/gabor-papp-k688MQzA3LI-unsplash.png : [0 1 2 3 4]\n",
      "dataset/car-segmentation/masks/105618639-modern-pale-blue-suv-car-side-view.png : [0 1 2 3 4]\n",
      "dataset/car-segmentation/masks/IMG_20201123_132401__01.png : [0 1 2 3 4]\n",
      "dataset/car-segmentation/masks/Safety_Car_side_2015_Malaysia.png : [0 1 2 3 4]\n",
      "dataset/car-segmentation/masks/2008-Morgan-Life-Car-Side-Speed-1024x768.png : [0 1 2 3 4]\n"
     ]
    },
    {
     "name": "stderr",
     "output_type": "stream",
     "text": [
      " 15%|█▍        | 31/211 [00:01<00:06, 29.23it/s]"
     ]
    },
    {
     "name": "stdout",
     "output_type": "stream",
     "text": [
      "dataset/car-segmentation/masks/brandon-paul-ErH1LWnAKXg-unsplash.png : [0 1 2 3 4]\n",
      "dataset/car-segmentation/masks/IMG_20201123_143723.png : [0 1 2 3 4]\n",
      "dataset/car-segmentation/masks/IMG_20201123_143545__01.png : [0 1 2 3 4]\n",
      "dataset/car-segmentation/masks/IMG_20201123_143657.png : [0 1 2 3 4]\n",
      "dataset/car-segmentation/masks/IMG_20201123_142949__01.png : [0 1 2 3 4]\n",
      "dataset/car-segmentation/masks/image%20(14).png : [0 1 2 3 4]\n",
      "dataset/car-segmentation/masks/IMG_20201123_143245.png : [0 1 2 3 4]\n",
      "dataset/car-segmentation/masks/IMG_20201123_143523.png : [0 1 2 3 4]\n",
      "dataset/car-segmentation/masks/black_side_shot_GALLERY.png : [0 1 2 3 4]\n",
      "dataset/car-segmentation/masks/IMG_20201123_140214.png : [0 1 2 3 4]\n",
      "dataset/car-segmentation/masks/IMG_20201123_144700.png : [0 1 2 3 4]\n",
      "dataset/car-segmentation/masks/2018-nissan-sentra-2017-nissan-sentra-car-nissan-micra-png-f.png : [0 1 2 3 4]\n",
      "dataset/car-segmentation/masks/IMG_20201123_135112.png : [0 1 2 3 4]\n",
      "dataset/car-segmentation/masks/car1112.png : [0 1 2 3 4]\n",
      "dataset/car-segmentation/masks/IMG_20201123_141123.png : [0 1 2 3 4]\n"
     ]
    },
    {
     "name": "stderr",
     "output_type": "stream",
     "text": [
      " 24%|██▎       | 50/211 [00:01<00:04, 36.63it/s]"
     ]
    },
    {
     "name": "stdout",
     "output_type": "stream",
     "text": [
      "dataset/car-segmentation/masks/anne-nygard-6t7wZAU3nuY-unsplash.png : [0 1 2 3 4]\n",
      "dataset/car-segmentation/masks/IMG_20201123_133402.png : [0 1 2 3 4]\n",
      "dataset/car-segmentation/masks/IMG_20201123_132708.png : [0 1 2 3 4]\n",
      "dataset/car-segmentation/masks/IMG_20201123_141057.png : [0 1 2 3 4]\n",
      "dataset/car-segmentation/masks/IMG_20201123_144606.png : [0 1 2 3 4]\n",
      "dataset/car-segmentation/masks/IMG_20201123_143155.png : [0 1 2 3 4]\n",
      "dataset/car-segmentation/masks/2015_aston_martin_db10_4.png : [0 1 2 3 4]\n",
      "dataset/car-segmentation/masks/il_570xN-1259936156_o9i9.png : [0 1 2 3 4]\n",
      "dataset/car-segmentation/masks/75-752748_red-jaguar-f-type-car-side-view-png.png : [0 1 2 3 4]\n"
     ]
    },
    {
     "name": "stderr",
     "output_type": "stream",
     "text": [
      " 26%|██▌       | 55/211 [00:01<00:04, 34.78it/s]"
     ]
    },
    {
     "name": "stdout",
     "output_type": "stream",
     "text": [
      "dataset/car-segmentation/masks/IMG_20201123_132800__01.png : [0 1 2 3 4]\n",
      "dataset/car-segmentation/masks/IMG_20201123_132237.png : [0 1 2 3 4]\n",
      "dataset/car-segmentation/masks/maxresdefault.png : [0 1 2 3 4]\n",
      "dataset/car-segmentation/masks/im7.png : [0 1 2 3 4]\n",
      "dataset/car-segmentation/masks/IMG_20201123_142920__01.png : [0 1 2 3 4]\n",
      "dataset/car-segmentation/masks/IMG_20201123_143749__01.png : [0 1 2 3 4]\n",
      "dataset/car-segmentation/masks/865-8651925_fiat-tipo-company-car-side-view.png : [0 1 2 3 4]\n",
      "dataset/car-segmentation/masks/im6.png : [0 1 2 3 4]\n",
      "dataset/car-segmentation/masks/IMG_20201123_143236.png : [0 1 2 3 4]\n",
      "dataset/car-segmentation/masks/IMG_20201123_133302.png : [0 1 2 3 4]\n"
     ]
    },
    {
     "name": "stderr",
     "output_type": "stream",
     "text": [
      " 33%|███▎      | 69/211 [00:01<00:03, 38.14it/s]"
     ]
    },
    {
     "name": "stdout",
     "output_type": "stream",
     "text": [
      "dataset/car-segmentation/masks/IMG_20201123_132752.png : [0 1 2 3 4]\n",
      "dataset/car-segmentation/masks/IMG_20201123_135003.png : [0 1 2 3 4]\n",
      "dataset/car-segmentation/masks/IMG_20201123_132345__01.png : [0 1 2 3 4]\n",
      "dataset/car-segmentation/masks/IMG_20201123_143426.png : [0 1 2 3 4]\n",
      "dataset/car-segmentation/masks/IMG_20201123_142937.png : [0 1 2 3 4]\n",
      "dataset/car-segmentation/masks/IMG_20201123_132604__01.png : [0 1 2 3 4]\n",
      "dataset/car-segmentation/masks/im4.png : [0 1 2 3 4]\n"
     ]
    },
    {
     "name": "stderr",
     "output_type": "stream",
     "text": [
      " 35%|███▍      | 73/211 [00:02<00:04, 28.23it/s]"
     ]
    },
    {
     "name": "stdout",
     "output_type": "stream",
     "text": [
      "dataset/car-segmentation/masks/kevin-bhagat-3cLpiv8h5so-unsplash.png : [0 1 2 3 4]\n",
      "dataset/car-segmentation/masks/im24.png : [0 1 2 3 4]\n",
      "dataset/car-segmentation/masks/im18.png : [0 1 2 3 4]\n",
      "dataset/car-segmentation/masks/IMG_20201123_143036.png : [0 1 2 3 4]\n"
     ]
    },
    {
     "name": "stderr",
     "output_type": "stream",
     "text": [
      " 43%|████▎     | 90/211 [00:02<00:03, 40.17it/s]"
     ]
    },
    {
     "name": "stdout",
     "output_type": "stream",
     "text": [
      "dataset/car-segmentation/masks/malusi-msomi-1Jz3Xq7EcrI-unsplash.png : [0 1 2 3 4]\n",
      "dataset/car-segmentation/masks/IMG_20201123_132631.png : [0 1 2 3 4]\n",
      "dataset/car-segmentation/masks/2020-Honda-City-7-1068x672.png : [0 1 2 3 4]\n",
      "dataset/car-segmentation/masks/im19.png : [0 1 2 3 4]\n",
      "dataset/car-segmentation/masks/im25.png : [0 1 2 3 4]\n",
      "dataset/car-segmentation/masks/im5.png : [0 1 2 3 4]\n",
      "dataset/car-segmentation/masks/202-2028012_car-png-hd-side-view-transparent-png.png : [0 1 2 3 4]\n",
      "dataset/car-segmentation/masks/image%20(13).png : [0 1 2 3 4]\n",
      "dataset/car-segmentation/masks/car-graphic-19.png : [0 1 2 3 4]\n",
      "dataset/car-segmentation/masks/image%20(12).png : [0 1 2 3 4]\n",
      "dataset/car-segmentation/masks/IMG_20201123_135204.png : [0 1 2 3 4]\n",
      "dataset/car-segmentation/masks/im21.png : [0 1 2 3 4]\n",
      "dataset/car-segmentation/masks/2011-278656-pagani-huayra-side-view1.png : [0 1 2 3 4]\n",
      "dataset/car-segmentation/masks/hd-car-side-view-transparent-background-transparent-png-image-car-side-png-1947_776.png : [0 1 2 3 4]\n",
      "dataset/car-segmentation/masks/im20.png : [0 1 2 3 4]\n",
      "dataset/car-segmentation/masks/IMG_20201123_131711.png : [0 1 2 3 4]\n",
      "dataset/car-segmentation/masks/IMG_20201123_143344.png : [0 1 2 3 4]\n",
      "dataset/car-segmentation/masks/IMG_20201123_143813.png : [0 1 2 3 4]\n"
     ]
    },
    {
     "name": "stderr",
     "output_type": "stream",
     "text": [
      " 45%|████▌     | 95/211 [00:02<00:03, 38.40it/s]"
     ]
    },
    {
     "name": "stdout",
     "output_type": "stream",
     "text": [
      "dataset/car-segmentation/masks/black-volkswagen-golf.png : [0 1 2 3 4]\n",
      "dataset/car-segmentation/masks/e4a49bfe830012333d89a9861f6c4821.png : [0 1 2 3 4]\n",
      "dataset/car-segmentation/masks/IMG_20201123_142931.png : [0 1 2 3 4]\n",
      "dataset/car-segmentation/masks/im22.png : [0 1 2 3 4]\n",
      "dataset/car-segmentation/masks/im2.png : [0 1 2 3 4]\n",
      "dataset/car-segmentation/masks/Jeep-Wrangler-Left-Side-View-79407.png : [0 1 2 4]\n",
      "dataset/car-segmentation/masks/IMG_20201123_135616.png : [0 1 2 3 4]\n",
      "dataset/car-segmentation/masks/im3.png : [0 1 2 3 4]\n",
      "dataset/car-segmentation/masks/im23.png : [0 1 2 3 4]\n",
      "dataset/car-segmentation/masks/IMG_20201123_143227.png : [0 1 2 3 4]\n",
      "dataset/car-segmentation/masks/IMG_20201123_143435.png : [0 1 2 3 4]\n",
      "dataset/car-segmentation/masks/IMG_20201123_144800.png : [0 1 2 3 4]\n",
      "dataset/car-segmentation/masks/2019-ferrari-488-spider-side-view-carbuzz-669506.png : [0 1 2 3 4]\n",
      "dataset/car-segmentation/masks/im12.png : [0 1 2 3 4]\n"
     ]
    },
    {
     "name": "stderr",
     "output_type": "stream",
     "text": [
      " 56%|█████▌    | 118/211 [00:02<00:01, 64.57it/s]"
     ]
    },
    {
     "name": "stdout",
     "output_type": "stream",
     "text": [
      "dataset/car-segmentation/masks/m_next_037.png : [0 1 2 3 4]\n",
      "dataset/car-segmentation/masks/IMG_20201123_143954.png : [0 1 2 3 4]\n",
      "dataset/car-segmentation/masks/62271369-ehrf%C3%BCrchtig-gelb-muscle-car-seitenansicht.png : [0 1 2 3 4]\n",
      "dataset/car-segmentation/masks/audir8.png : [0 1 2 3 4]\n",
      "dataset/car-segmentation/masks/im13.png : [0 1 2 3 4]\n",
      "dataset/car-segmentation/masks/47865-Kit-Bandes-Bas-Caisse-Porsche-Boxster.png : [0 1 2 3 4]\n",
      "dataset/car-segmentation/masks/IMG_20201123_144550.png : [0 1 2 3 4]\n",
      "dataset/car-segmentation/masks/IMG_20201123_143405.png : [0 1 2 3 4]\n",
      "dataset/car-segmentation/masks/IMG_20201123_144418.png : [0 1 2 3 4]\n",
      "dataset/car-segmentation/masks/d9ce7968a4073918ce554523363caa73.png : [0 1 2 3 4]\n",
      "dataset/car-segmentation/masks/178583_Side_Profile_Web.png : [0 1 2 3 4]\n",
      "dataset/car-segmentation/masks/Aston-Marton-Car-Branding-Right-Side-PSD-Mockup.png : [0 1 2 3 4]\n",
      "dataset/car-segmentation/masks/IMG_20201123_143605.png : [0 1 2 3 4]\n",
      "dataset/car-segmentation/masks/image%20(11).png : [0 1 2 3 4]\n",
      "dataset/car-segmentation/masks/94374978-pretty-pink-modern-fast-city-car-side-view.png : [0 1 2 3 4]\n",
      "dataset/car-segmentation/masks/im11.png : [0 1 2 3 4]\n",
      "dataset/car-segmentation/masks/75538664-compact-suv-car-side-view.png : [0 1 2 3 4]\n",
      "dataset/car-segmentation/masks/IMG_20201123_144750.png : [0 1 2 3 4]\n",
      "dataset/car-segmentation/masks/IMG_20201123_142855__01.png : [0 1 2 3 4]\n",
      "dataset/car-segmentation/masks/Hba200d821f7b485cb1975db750260e88o.png : [0 1 2 3 4]\n",
      "dataset/car-segmentation/masks/IMG_20201123_143758.png : [0 1 2 3 4]\n",
      "dataset/car-segmentation/masks/IMG_20201123_140245.png : [0 1 2 3 4]\n",
      "dataset/car-segmentation/masks/IMG_20201123_134711.png : [0 1 2 3 4]\n",
      "dataset/car-segmentation/masks/im10.png : [0 1 2 3 4]\n",
      "dataset/car-segmentation/masks/IMG_20201123_143412.png : [0 1 2 3 4]\n",
      "dataset/car-segmentation/masks/IMG_20201123_143628.png : [0 1 2 3 4]\n",
      "dataset/car-segmentation/masks/IMG_20201123_144621.png : [0 1 2 3 4]\n"
     ]
    },
    {
     "name": "stderr",
     "output_type": "stream",
     "text": [
      " 69%|██████▉   | 146/211 [00:03<00:00, 89.93it/s]"
     ]
    },
    {
     "name": "stdout",
     "output_type": "stream",
     "text": [
      "dataset/car-segmentation/masks/IMG_20201123_132929__01.png : [0 1 2 3 4]\n",
      "dataset/car-segmentation/masks/45303-Kit-stickers-bandes-Mitsubishi-L200.png : [0 1 2 3 4]\n",
      "dataset/car-segmentation/masks/dimon-blr-rwgyRguL_YE-unsplash.png : [0 1 2 3 4]\n",
      "dataset/car-segmentation/masks/im8.png : [0 1 2 3 4]\n",
      "dataset/car-segmentation/masks/IMG_20201123_133046.png : [0 1 2 3 4]\n",
      "dataset/car-segmentation/masks/im14.png : [0 1 2 3 4]\n",
      "dataset/car-segmentation/masks/IMG_20201123_143012.png : [0 1 2 3 4]\n",
      "dataset/car-segmentation/masks/IMG_20201123_135806.png : [0 1 2 3 4]\n",
      "dataset/car-segmentation/masks/105618339-super-purple-modern-suv-car-side-view.png : [0 1 2 3 4]\n",
      "dataset/car-segmentation/masks/audi-r8-v10-car-side-view.png : [0 1 2 3 4]\n",
      "dataset/car-segmentation/masks/IMG_20201123_144740.png : [0 1 2 3 4]\n",
      "dataset/car-segmentation/masks/im15.png : [0 1 2 3 4]\n",
      "dataset/car-segmentation/masks/im9.png : [0 1 2 3 4]\n",
      "dataset/car-segmentation/masks/unnamed.png : [0 1 2 3 4]\n",
      "dataset/car-segmentation/masks/IMG_20201123_142906.png : [0 1 2 3 4]\n",
      "dataset/car-segmentation/masks/image%20(10).png : [0 1 2 3 4]\n",
      "dataset/car-segmentation/masks/3d_metal_machine_160_2000x.png : [0 1 2 3 4]\n",
      "dataset/car-segmentation/masks/IMG_20201123_135740.png : [0 1 2 3 4]\n",
      "dataset/car-segmentation/masks/39839516-black-sedan-car-side-view.png : [0 1 2 3 4]\n",
      "dataset/car-segmentation/masks/IMG_20201123_143617.png : [0 1 2 3 4]\n",
      "dataset/car-segmentation/masks/IMG_20201123_144636.png : [0 1 2 3 4]\n",
      "dataset/car-segmentation/masks/Monster_energy_custom.png : [0 1 2 3 4]\n",
      "dataset/car-segmentation/masks/Car.png : [0 1 2 3 4]\n",
      "dataset/car-segmentation/masks/IMG_20201123_143830.png : [0 1 2 3 4]\n",
      "dataset/car-segmentation/masks/IMG_20201123_135540.png : [0 1 2 3 4]\n",
      "dataset/car-segmentation/masks/IMG_20201123_143839__01.png : [0 1 2 3 4]\n",
      "dataset/car-segmentation/masks/car-side.png : [0 1 2 3 4]\n"
     ]
    },
    {
     "name": "stderr",
     "output_type": "stream",
     "text": [
      " 76%|███████▋  | 161/211 [00:03<00:00, 95.09it/s]"
     ]
    },
    {
     "name": "stdout",
     "output_type": "stream",
     "text": [
      "dataset/car-segmentation/masks/IMG_20201123_132159.png : [0 1 2 3 4]\n",
      "dataset/car-segmentation/masks/IMG_20201123_132617.png : [0 1 2 3 4]\n",
      "dataset/car-segmentation/masks/IMG_20201123_143945.png : [0 1 2 3 4]\n",
      "dataset/car-segmentation/masks/im16.png : [0 1 2 3 4]\n",
      "dataset/car-segmentation/masks/IMG_20201123_144018__01.png : [0 1 2 3 4]\n",
      "dataset/car-segmentation/masks/IMG_20201123_143206.png : [0 1 2 3 4]\n",
      "dataset/car-segmentation/masks/IMG_20201123_143144__01.png : [0 1 2 3 4]\n",
      "dataset/car-segmentation/masks/Haa04c90142df4a01829fd6d84b7b3347H.png : [0 1 2 3 4]\n",
      "dataset/car-segmentation/masks/2019-acura-rdx-11.png : [0 1 2 3 4]\n",
      "dataset/car-segmentation/masks/IMG_20201123_143103.png : [0 1 2 3 4]\n",
      "dataset/car-segmentation/masks/IMG_20201123_144532.png : [0 1 2 3 4]\n"
     ]
    },
    {
     "name": "stderr",
     "output_type": "stream",
     "text": [
      " 86%|████████▌ | 181/211 [00:03<00:00, 71.51it/s]"
     ]
    },
    {
     "name": "stdout",
     "output_type": "stream",
     "text": [
      "dataset/car-segmentation/masks/IMG_20201123_133022__01.png : [0 1 2 3 4]\n",
      "dataset/car-segmentation/masks/2018-bm4-gt4-sports-car-side-view-pk.png : [0 1 2 3 4]\n",
      "dataset/car-segmentation/masks/carsticker.png : [0 1 2 3 4]\n",
      "dataset/car-segmentation/masks/IMG_20201123_143739.png : [0 1 2 3 4]\n",
      "dataset/car-segmentation/masks/IMG_20201123_135123.png : [0 1 2 3 4]\n",
      "dataset/car-segmentation/masks/IMG_20201123_135137.png : [0 1 2 3 4]\n",
      "dataset/car-segmentation/masks/IMG_20201123_142834__01.png : [0 1 2 3 4]\n",
      "dataset/car-segmentation/masks/bb29a1ee64eaa0186407c5d2ead9c959.png : [0 1 2 3 4]\n",
      "dataset/car-segmentation/masks/IMG_20201123_143710.png : [0 1 2 3 4]\n",
      "dataset/car-segmentation/masks/toyota-gt86-blue-sport-car-side-view-wallpaper-preview.png : [0 1 2 3 4]\n",
      "dataset/car-segmentation/masks/IMG_20201123_143506.png : [0 1 2 3 4]\n"
     ]
    },
    {
     "name": "stderr",
     "output_type": "stream",
     "text": [
      " 90%|████████▉ | 189/211 [00:03<00:00, 69.25it/s]"
     ]
    },
    {
     "name": "stdout",
     "output_type": "stream",
     "text": [
      "dataset/car-segmentation/masks/IMG_20201123_132248.png : [0 1 2 3 4]\n",
      "dataset/car-segmentation/masks/Volkswagen-Golf_GTI_5-door-2004-1600-10.png : [0 1 2 3 4]\n",
      "dataset/car-segmentation/masks/IMG_20201123_135900.png : [0 1 2 3 4]\n",
      "dataset/car-segmentation/masks/IMG_20201123_134940.png : [0 1 2 3 4]\n",
      "dataset/car-segmentation/masks/IMG_20201123_132316__01.png : [0 1 2 3 4]\n",
      "dataset/car-segmentation/masks/IMG_20201123_143935.png : [0 1 2 3 4]\n",
      "dataset/car-segmentation/masks/IMG_20201123_143908.png : [0 1 2 3 4]\n",
      "dataset/car-segmentation/masks/IMG_20201123_144726.png : [0 1 2 3 4]\n",
      "dataset/car-segmentation/masks/depositphotos_176490672-stock-photo-white-toyota-suv-car-sid.png : [0 1 2 3 4]\n",
      "dataset/car-segmentation/masks/auto-machine-grey-toyota-car-hd-wallpaper-preview.png : [0 1 2 3 4]\n",
      "dataset/car-segmentation/masks/IMG_20201123_132539.png : [0 1 2 3 4]\n",
      "dataset/car-segmentation/masks/156551_preview.png : [0 1 2 3 4]\n",
      "dataset/car-segmentation/masks/676069.png : [0 1 2 3 4]\n",
      "dataset/car-segmentation/masks/63-633585_infiniti-png-car-side-profile-png-transparent-png.png : [0 1 2 3 4]\n",
      "dataset/car-segmentation/masks/IMG_20201123_144130.png : [0 1 2 3 4]\n",
      "dataset/car-segmentation/masks/IMG_20201123_143858__01.png : [0 1 2 3 4]\n"
     ]
    },
    {
     "name": "stderr",
     "output_type": "stream",
     "text": [
      "100%|██████████| 211/211 [00:04<00:00, 51.63it/s]"
     ]
    },
    {
     "name": "stdout",
     "output_type": "stream",
     "text": [
      "dataset/car-segmentation/masks/G40-Junior-GT5-car-side.png : [0 1 2 3 4]\n",
      "dataset/car-segmentation/masks/IMG_20201123_143925.png : [0 1 2 3 4]\n",
      "dataset/car-segmentation/masks/1965-Shelby-Cobra-Roadster-Side-Profile.png : [0 1 2 3 4]\n",
      "dataset/car-segmentation/masks/IMG_20201123_133422.png : [0 1 2 3 4]\n",
      "dataset/car-segmentation/masks/8b21a8c96a9d38143f7b29c0f8e4fe3d.png : [0 1 2 3 4]\n",
      "dataset/car-segmentation/masks/IMG_20201123_143217__01.png : [0 1 2 3 4]\n",
      "dataset/car-segmentation/masks/IMG_20201123_144709.png : [0 1 2 3 4]\n",
      "dataset/car-segmentation/masks/IMG_20201123_133510__01.png : [0 1 2 3 4]\n",
      "dataset/car-segmentation/masks/IMG_20201123_135641.png : [0 1 2 3 4]\n",
      "dataset/car-segmentation/masks/IMG_20201123_132516__01.png : [0 1 2 3 4]\n",
      "dataset/car-segmentation/masks/Police-Car-side-view.png : [0 1 2 3 4]\n",
      "dataset/car-segmentation/masks/IMG_20201123_142755.png : [0 1 2 3 4]\n",
      "dataset/car-segmentation/masks/image%20(16).png : [0 1 2 3 4]\n"
     ]
    },
    {
     "name": "stderr",
     "output_type": "stream",
     "text": [
      "\n"
     ]
    }
   ],
   "source": [
    "\n",
    "for filename in tqdm(label_files):\n",
    "    filepath = os.path.join(LABEL_DIR, filename)\n",
    "    \n",
    "    try:\n",
    "      \n",
    "        with Image.open(filepath) as img:\n",
    "\n",
    "            label_array = np.array(img)\n",
    "            # Find unique pixel values in the current image\n",
    "            current_uniques = np.unique(label_array)\n",
    "            str_out = f\"{filepath} : {current_uniques}\"\n",
    "            print(str_out)\n",
    "\n",
    "            unique_pixel_values.update(current_uniques)\n",
    "    except Exception as e:\n",
    "        print(f\"Could not process file {filename}: {e}\")"
   ]
  },
  {
   "cell_type": "code",
   "execution_count": 18,
   "id": "6cdb5d78",
   "metadata": {},
   "outputs": [
    {
     "name": "stdout",
     "output_type": "stream",
     "text": [
      "Unique pixel values found: [0, 1, 2, 3, 4]\n",
      "Total number of unique classes: 5\n"
     ]
    }
   ],
   "source": [
    "sorted_uniques = sorted(list(unique_pixel_values))\n",
    "num_classes = len(sorted_uniques)\n",
    "\n",
    "print(f\"Unique pixel values found: {sorted_uniques}\")\n",
    "print(f\"Total number of unique classes: {num_classes}\")\n"
   ]
  },
  {
   "cell_type": "code",
   "execution_count": null,
   "id": "220ecea9",
   "metadata": {},
   "outputs": [],
   "source": []
  }
 ],
 "metadata": {
  "kernelspec": {
   "display_name": "ths_dev",
   "language": "python",
   "name": "python3"
  },
  "language_info": {
   "codemirror_mode": {
    "name": "ipython",
    "version": 3
   },
   "file_extension": ".py",
   "mimetype": "text/x-python",
   "name": "python",
   "nbconvert_exporter": "python",
   "pygments_lexer": "ipython3",
   "version": "3.10.16"
  }
 },
 "nbformat": 4,
 "nbformat_minor": 5
}
